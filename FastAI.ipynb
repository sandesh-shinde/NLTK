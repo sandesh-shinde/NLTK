{
 "cells": [
  {
   "cell_type": "markdown",
   "metadata": {
    "colab_type": "text",
    "id": "pQ0OjsC7sPl2"
   },
   "source": [
    "# Sentiment Analysis using FastAI to fine tune a Language Model"
   ]
  },
  {
   "cell_type": "markdown",
   "metadata": {
    "colab_type": "text",
    "id": "efd02pu0s3-x"
   },
   "source": [
    "### Steps in FastAI :\n",
    "*  Data pre-processing\n",
    "*  Create a language model, then fine-tune it to our dataset.\n",
    "*  Create Sentiment Analysis Classifier on top of the language model."
   ]
  },
  {
   "cell_type": "markdown",
   "metadata": {
    "colab_type": "text",
    "id": "tYmuwgATtcez"
   },
   "source": [
    "##### Data Source : IMDB dataset 25,000 movie reviews for training, and 25,000 for testing"
   ]
  },
  {
   "cell_type": "code",
   "execution_count": 0,
   "metadata": {
    "colab": {},
    "colab_type": "code",
    "id": "6e4_RyifrrCw"
   },
   "outputs": [],
   "source": [
    "import fastai\n",
    "import pandas as pd"
   ]
  },
  {
   "cell_type": "code",
   "execution_count": 0,
   "metadata": {
    "colab": {},
    "colab_type": "code",
    "id": "AF1CY2FJtb5J"
   },
   "outputs": [],
   "source": [
    "from fastai.text import *"
   ]
  },
  {
   "cell_type": "code",
   "execution_count": 0,
   "metadata": {
    "colab": {},
    "colab_type": "code",
    "id": "xnk1sEo-tb72"
   },
   "outputs": [],
   "source": [
    "df_imdb = pd.read_csv('/home/movie_data.csv')"
   ]
  },
  {
   "cell_type": "code",
   "execution_count": 60,
   "metadata": {
    "colab": {
     "base_uri": "https://localhost:8080/",
     "height": 202
    },
    "colab_type": "code",
    "id": "hepwgZGvxTCp",
    "outputId": "f3127cf6-9247-4ced-aa02-8ad5481278a3"
   },
   "outputs": [
    {
     "data": {
      "text/html": [
       "<div>\n",
       "<style scoped>\n",
       "    .dataframe tbody tr th:only-of-type {\n",
       "        vertical-align: middle;\n",
       "    }\n",
       "\n",
       "    .dataframe tbody tr th {\n",
       "        vertical-align: top;\n",
       "    }\n",
       "\n",
       "    .dataframe thead th {\n",
       "        text-align: right;\n",
       "    }\n",
       "</style>\n",
       "<table border=\"1\" class=\"dataframe\">\n",
       "  <thead>\n",
       "    <tr style=\"text-align: right;\">\n",
       "      <th></th>\n",
       "      <th>review</th>\n",
       "      <th>sentiment</th>\n",
       "    </tr>\n",
       "  </thead>\n",
       "  <tbody>\n",
       "    <tr>\n",
       "      <th>0</th>\n",
       "      <td>I went and saw this movie last night after bei...</td>\n",
       "      <td>1</td>\n",
       "    </tr>\n",
       "    <tr>\n",
       "      <th>1</th>\n",
       "      <td>Actor turned director Bill Paxton follows up h...</td>\n",
       "      <td>1</td>\n",
       "    </tr>\n",
       "    <tr>\n",
       "      <th>2</th>\n",
       "      <td>As a recreational golfer with some knowledge o...</td>\n",
       "      <td>1</td>\n",
       "    </tr>\n",
       "    <tr>\n",
       "      <th>3</th>\n",
       "      <td>I saw this film in a sneak preview, and it is ...</td>\n",
       "      <td>1</td>\n",
       "    </tr>\n",
       "    <tr>\n",
       "      <th>4</th>\n",
       "      <td>Bill Paxton has taken the true story of the 19...</td>\n",
       "      <td>1</td>\n",
       "    </tr>\n",
       "  </tbody>\n",
       "</table>\n",
       "</div>"
      ],
      "text/plain": [
       "                                              review  sentiment\n",
       "0  I went and saw this movie last night after bei...          1\n",
       "1  Actor turned director Bill Paxton follows up h...          1\n",
       "2  As a recreational golfer with some knowledge o...          1\n",
       "3  I saw this film in a sneak preview, and it is ...          1\n",
       "4  Bill Paxton has taken the true story of the 19...          1"
      ]
     },
     "execution_count": 60,
     "metadata": {
      "tags": []
     },
     "output_type": "execute_result"
    }
   ],
   "source": [
    "df_imdb.head()"
   ]
  },
  {
   "cell_type": "code",
   "execution_count": 61,
   "metadata": {
    "colab": {
     "base_uri": "https://localhost:8080/",
     "height": 35
    },
    "colab_type": "code",
    "id": "DUEJt1xxxTFD",
    "outputId": "e73038ca-f16e-437f-9aed-5ea7890182fa"
   },
   "outputs": [
    {
     "data": {
      "text/plain": [
       "50000"
      ]
     },
     "execution_count": 61,
     "metadata": {
      "tags": []
     },
     "output_type": "execute_result"
    }
   ],
   "source": [
    "len(df_imdb)"
   ]
  },
  {
   "cell_type": "code",
   "execution_count": 62,
   "metadata": {
    "colab": {
     "base_uri": "https://localhost:8080/",
     "height": 69
    },
    "colab_type": "code",
    "id": "N5Ibl0XSxTHs",
    "outputId": "2c4fc482-80f2-4d18-99d5-bf10e534674c"
   },
   "outputs": [
    {
     "data": {
      "text/plain": [
       "1    25000\n",
       "0    25000\n",
       "Name: sentiment, dtype: int64"
      ]
     },
     "execution_count": 62,
     "metadata": {
      "tags": []
     },
     "output_type": "execute_result"
    }
   ],
   "source": [
    "df_imdb['sentiment'].value_counts()"
   ]
  },
  {
   "cell_type": "markdown",
   "metadata": {
    "colab_type": "text",
    "id": "RilC669gA-4J"
   },
   "source": [
    "We will use only 5000 [2500 each label] from Training and 3000 [1500 each label] from Validation dataset to finish the training faster"
   ]
  },
  {
   "cell_type": "code",
   "execution_count": 0,
   "metadata": {
    "colab": {},
    "colab_type": "code",
    "id": "pPouPQ1PxTJ_"
   },
   "outputs": [],
   "source": [
    "trn_texts = df_imdb.loc[10000:14999, 'review'].values\n",
    "trn_labels = df_imdb.loc[10000:14999, 'sentiment'].values"
   ]
  },
  {
   "cell_type": "code",
   "execution_count": 0,
   "metadata": {
    "colab": {},
    "colab_type": "code",
    "id": "64-NILYExTMU"
   },
   "outputs": [],
   "source": [
    "val_texts = df_imdb.loc[36000:38999, 'review'].values\n",
    "val_labels = df_imdb.loc[36000:38999, 'sentiment'].values"
   ]
  },
  {
   "cell_type": "code",
   "execution_count": 0,
   "metadata": {
    "colab": {},
    "colab_type": "code",
    "id": "-XqNam6QBlPw"
   },
   "outputs": [],
   "source": [
    "col_names = ['labels','text']"
   ]
  },
  {
   "cell_type": "code",
   "execution_count": 0,
   "metadata": {
    "colab": {},
    "colab_type": "code",
    "id": "ugrkK0GOBlSZ"
   },
   "outputs": [],
   "source": [
    "df_trn = pd.DataFrame({'text':trn_texts, 'labels':trn_labels}, columns=col_names)"
   ]
  },
  {
   "cell_type": "code",
   "execution_count": 0,
   "metadata": {
    "colab": {},
    "colab_type": "code",
    "id": "OpgPcxlaBlUq"
   },
   "outputs": [],
   "source": [
    "df_val = pd.DataFrame({'text':val_texts, 'labels':val_labels}, columns=col_names)"
   ]
  },
  {
   "cell_type": "code",
   "execution_count": 68,
   "metadata": {
    "colab": {
     "base_uri": "https://localhost:8080/",
     "height": 69
    },
    "colab_type": "code",
    "id": "cPtW7ynoxTOz",
    "outputId": "fac00a1d-3850-4afa-e3b8-68d7c45d713a"
   },
   "outputs": [
    {
     "data": {
      "text/plain": [
       "1    2500\n",
       "0    2500\n",
       "Name: labels, dtype: int64"
      ]
     },
     "execution_count": 68,
     "metadata": {
      "tags": []
     },
     "output_type": "execute_result"
    }
   ],
   "source": [
    "df_trn['labels'].value_counts()"
   ]
  },
  {
   "cell_type": "code",
   "execution_count": 69,
   "metadata": {
    "colab": {
     "base_uri": "https://localhost:8080/",
     "height": 69
    },
    "colab_type": "code",
    "id": "7ZUvbmFBDgGy",
    "outputId": "58db48fb-690b-476e-fe67-6a596a254e9e"
   },
   "outputs": [
    {
     "data": {
      "text/plain": [
       "1    1500\n",
       "0    1500\n",
       "Name: labels, dtype: int64"
      ]
     },
     "execution_count": 69,
     "metadata": {
      "tags": []
     },
     "output_type": "execute_result"
    }
   ],
   "source": [
    "df_val['labels'].value_counts()"
   ]
  },
  {
   "cell_type": "markdown",
   "metadata": {
    "colab_type": "text",
    "id": "u0uUjblnEcii"
   },
   "source": [
    "### Step 1: Data Preprocessing"
   ]
  },
  {
   "cell_type": "markdown",
   "metadata": {
    "colab_type": "text",
    "id": "8U8fxYIvFPGp"
   },
   "source": [
    "* Use TextLMDataBunch to create a language model specific data bunch which does all the preprocessing"
   ]
  },
  {
   "cell_type": "code",
   "execution_count": 70,
   "metadata": {
    "colab": {
     "base_uri": "https://localhost:8080/",
     "height": 17
    },
    "colab_type": "code",
    "id": "1KOgloKADj-G",
    "outputId": "cdd9b1c3-fab0-4c2c-afaf-86300d7cddfd"
   },
   "outputs": [
    {
     "data": {
      "text/html": [],
      "text/plain": [
       "<IPython.core.display.HTML object>"
      ]
     },
     "metadata": {
      "tags": []
     },
     "output_type": "display_data"
    },
    {
     "data": {
      "text/html": [],
      "text/plain": [
       "<IPython.core.display.HTML object>"
      ]
     },
     "metadata": {
      "tags": []
     },
     "output_type": "display_data"
    }
   ],
   "source": [
    "data_lm = TextLMDataBunch.from_df('./', train_df=df_trn, valid_df=df_val)"
   ]
  },
  {
   "cell_type": "code",
   "execution_count": 71,
   "metadata": {
    "colab": {
     "base_uri": "https://localhost:8080/",
     "height": 306
    },
    "colab_type": "code",
    "id": "jFfgTLGTD8Tf",
    "outputId": "b972fe26-c0fe-41a5-af8d-76066a7a14d3"
   },
   "outputs": [
    {
     "data": {
      "text/html": [
       "<table border=\"1\" class=\"dataframe\">\n",
       "  <thead>\n",
       "    <tr style=\"text-align: right;\">\n",
       "      <th>idx</th>\n",
       "      <th>text</th>\n",
       "    </tr>\n",
       "  </thead>\n",
       "  <tbody>\n",
       "    <tr>\n",
       "      <td>0</td>\n",
       "      <td>breath of fresh air in a world ridden with repetitive anime series and non innovative xxup tv shows . \\n \\n  xxmaj characters are well developed , and you will end up loving them , some less than others . xxmaj the word to describe the animation job does not exist , since \" excellent \" would really fall short to describe how was done . xxmaj there are</td>\n",
       "    </tr>\n",
       "    <tr>\n",
       "      <td>1</td>\n",
       "      <td>results . a lot of people are mad . xxmaj mad because it does n't have the best special effects . xxmaj mad because it does n't have a star cast . xxmaj mad because they wanted to see xxmaj samuel xxmaj jackson say \" i 'm sick of these m^*&amp;*&amp;%-er f*^(^%-ing xxmaj snakes on this m^*&amp;*&amp;%-er f*^(^%-ing xxmaj train \" ! \\n \\n  xxmaj well , this sure</td>\n",
       "    </tr>\n",
       "    <tr>\n",
       "      <td>2</td>\n",
       "      <td>, 8 / 10 . xxbos \" xxmaj joe \" is one of those movies where , although you think that it might go along smoothly , ends up hitting you like ... i ca n't come up with an analogy . xxmaj it showed not only that xxmaj america 's long - standing idea of unity was moot , but also the various aspects within our society . xxmaj</td>\n",
       "    </tr>\n",
       "    <tr>\n",
       "      <td>3</td>\n",
       "      <td>of a film on death and remembrance . ( xxmaj and possibly hope for the xxunk , i think ... ) \\n \\n  i highly recommend this film to anybody who has deep interest in film art as well as xxmaj korean culture . xxmaj this film , in my opinion , can be rivaled with other movies like xxmaj tokyo story , and a sort of xxmaj american</td>\n",
       "    </tr>\n",
       "    <tr>\n",
       "      <td>4</td>\n",
       "      <td>park series ) are entertaining and probably ( as is much else on this release ) a reason for obtaining this disc alone for anyone remotely interested in the work of these two characters . xxmaj loaded with much more than i could mention here ( including a xxup second audio - commentary ) this is one of the best xxmaj troma - xxup dvd - releases . xxbos xxmaj</td>\n",
       "    </tr>\n",
       "  </tbody>\n",
       "</table>"
      ],
      "text/plain": [
       "<IPython.core.display.HTML object>"
      ]
     },
     "metadata": {
      "tags": []
     },
     "output_type": "display_data"
    }
   ],
   "source": [
    "data_lm.show_batch()"
   ]
  },
  {
   "cell_type": "markdown",
   "metadata": {
    "colab_type": "text",
    "id": "3VXc6iTxGvkl"
   },
   "source": [
    "### FastAI Special Tags \n",
    "* xxbos: Begining of a sentence\n",
    "* xxfld: Represent separate parts of a document like title, summary etc\n",
    "* xxup: Capital words gets lower cased and a token (xxup) is added to it\n",
    "* xxunk: token used instead of an uncommon word\n",
    "* xxmaj: token indicates that there is capitalization of the word\n",
    "* xxrep: token indicates repeated word"
   ]
  },
  {
   "cell_type": "markdown",
   "metadata": {
    "colab_type": "text",
    "id": "V_9B5LEIJLnk"
   },
   "source": [
    "Vocabulary: List of unique possible tokens is called the vocabulary"
   ]
  },
  {
   "cell_type": "markdown",
   "metadata": {
    "colab_type": "text",
    "id": "qXYuIScVJkFw"
   },
   "source": [
    "Listing below first 20 unique tokens in order of frequency:"
   ]
  },
  {
   "cell_type": "code",
   "execution_count": 72,
   "metadata": {
    "colab": {
     "base_uri": "https://localhost:8080/",
     "height": 364
    },
    "colab_type": "code",
    "id": "NVDFf4sAD8Wk",
    "outputId": "9c797e1d-4d27-4420-e37a-c97d73c16971"
   },
   "outputs": [
    {
     "data": {
      "text/plain": [
       "['xxunk',\n",
       " 'xxpad',\n",
       " 'xxbos',\n",
       " 'xxeos',\n",
       " 'xxfld',\n",
       " 'xxmaj',\n",
       " 'xxup',\n",
       " 'xxrep',\n",
       " 'xxwrep',\n",
       " 'the',\n",
       " '.',\n",
       " ',',\n",
       " 'a',\n",
       " 'and',\n",
       " 'of',\n",
       " 'to',\n",
       " 'is',\n",
       " 'it',\n",
       " 'in',\n",
       " 'i']"
      ]
     },
     "execution_count": 72,
     "metadata": {
      "tags": []
     },
     "output_type": "execute_result"
    }
   ],
   "source": [
    "data_lm.vocab.itos[:20]"
   ]
  },
  {
   "cell_type": "markdown",
   "metadata": {
    "colab_type": "text",
    "id": "pLnXoHZ0JgTQ"
   },
   "source": [
    "* Numericalization: Replace the tokens with the location of the token in the vocab:"
   ]
  },
  {
   "cell_type": "markdown",
   "metadata": {
    "colab_type": "text",
    "id": "N-ieY-0cKOep"
   },
   "source": [
    "The default vocab size is set to 60,000 words and minimum count for a word to be added to vocab is 2, to avoid getting the weight matrix huge"
   ]
  },
  {
   "cell_type": "markdown",
   "metadata": {
    "colab_type": "text",
    "id": "YIkqsPALKZdg"
   },
   "source": [
    "* Save and Load: We can save the data bunch after the pre-processing is done. \n",
    "* We can load as well whenever we need"
   ]
  },
  {
   "cell_type": "code",
   "execution_count": 0,
   "metadata": {
    "colab": {},
    "colab_type": "code",
    "id": "7RVEVvclD8Yx"
   },
   "outputs": [],
   "source": [
    "data_lm.save('tmp_lm')"
   ]
  },
  {
   "cell_type": "markdown",
   "metadata": {
    "colab_type": "text",
    "id": "FhlLIfTTK-Vn"
   },
   "source": [
    "## Step 2: Create Language Model"
   ]
  },
  {
   "cell_type": "markdown",
   "metadata": {
    "colab_type": "text",
    "id": "k7SJUyxgXWAp"
   },
   "source": [
    "* Language model fine-tuning"
   ]
  },
  {
   "cell_type": "markdown",
   "metadata": {
    "colab_type": "text",
    "id": "d3zEeIs5XonH"
   },
   "source": [
    "* We use the pre-trained language model weights and fine-tune it with the training data of IMDb movie reviews."
   ]
  },
  {
   "cell_type": "code",
   "execution_count": 74,
   "metadata": {
    "colab": {
     "base_uri": "https://localhost:8080/",
     "height": 35
    },
    "colab_type": "code",
    "id": "oT8oii1QD8bj",
    "outputId": "2d71b441-ddee-41d9-bd7c-37c44ed80c17"
   },
   "outputs": [
    {
     "name": "stdout",
     "output_type": "stream",
     "text": [
      "Downloading https://s3.amazonaws.com/fast-ai-modelzoo/wt103-fwd.tgz\n"
     ]
    },
    {
     "data": {
      "text/html": [],
      "text/plain": [
       "<IPython.core.display.HTML object>"
      ]
     },
     "metadata": {
      "tags": []
     },
     "output_type": "display_data"
    }
   ],
   "source": [
    "learner = language_model_learner(data_lm, arch=AWD_LSTM, drop_mult=0.5)"
   ]
  },
  {
   "cell_type": "markdown",
   "metadata": {
    "colab_type": "text",
    "id": "Zw830QsIhlRp"
   },
   "source": [
    "* Search through a range of learning rates to find the optimum one for our dataset"
   ]
  },
  {
   "cell_type": "code",
   "execution_count": 75,
   "metadata": {
    "colab": {
     "base_uri": "https://localhost:8080/",
     "height": 112
    },
    "colab_type": "code",
    "id": "lQZoj2OJD8d9",
    "outputId": "f042304f-d51f-4a22-d7d1-cde0aa7ad5ea"
   },
   "outputs": [
    {
     "data": {
      "text/html": [
       "\n",
       "    <div>\n",
       "        <style>\n",
       "            /* Turns off some styling */\n",
       "            progress {\n",
       "                /* gets rid of default border in Firefox and Opera. */\n",
       "                border: none;\n",
       "                /* Needs to be in here for Safari polyfill so background images work as expected. */\n",
       "                background-size: auto;\n",
       "            }\n",
       "            .progress-bar-interrupted, .progress-bar-interrupted::-webkit-progress-bar {\n",
       "                background: #F44336;\n",
       "            }\n",
       "        </style>\n",
       "      <progress value='0' class='' max='1' style='width:300px; height:20px; vertical-align: middle;'></progress>\n",
       "      0.00% [0/1 00:00<00:00]\n",
       "    </div>\n",
       "    \n",
       "<table border=\"1\" class=\"dataframe\">\n",
       "  <thead>\n",
       "    <tr style=\"text-align: left;\">\n",
       "      <th>epoch</th>\n",
       "      <th>train_loss</th>\n",
       "      <th>valid_loss</th>\n",
       "      <th>accuracy</th>\n",
       "      <th>time</th>\n",
       "    </tr>\n",
       "  </thead>\n",
       "  <tbody>\n",
       "  </tbody>\n",
       "</table><p>\n",
       "\n",
       "    <div>\n",
       "        <style>\n",
       "            /* Turns off some styling */\n",
       "            progress {\n",
       "                /* gets rid of default border in Firefox and Opera. */\n",
       "                border: none;\n",
       "                /* Needs to be in here for Safari polyfill so background images work as expected. */\n",
       "                background-size: auto;\n",
       "            }\n",
       "            .progress-bar-interrupted, .progress-bar-interrupted::-webkit-progress-bar {\n",
       "                background: #F44336;\n",
       "            }\n",
       "        </style>\n",
       "      <progress value='99' class='' max='328' style='width:300px; height:20px; vertical-align: middle;'></progress>\n",
       "      30.18% [99/328 00:42<01:38 11.7527]\n",
       "    </div>\n",
       "    "
      ],
      "text/plain": [
       "<IPython.core.display.HTML object>"
      ]
     },
     "metadata": {
      "tags": []
     },
     "output_type": "display_data"
    },
    {
     "name": "stdout",
     "output_type": "stream",
     "text": [
      "LR Finder is complete, type {learner_name}.recorder.plot() to see the graph.\n"
     ]
    }
   ],
   "source": [
    "learner.lr_find()"
   ]
  },
  {
   "cell_type": "code",
   "execution_count": 87,
   "metadata": {
    "colab": {
     "base_uri": "https://localhost:8080/",
     "height": 279
    },
    "colab_type": "code",
    "id": "Xl8VI54KhL5b",
    "outputId": "c33897e4-7c29-4d4d-9d9a-007df40e2cc6"
   },
   "outputs": [
    {
     "data": {
      "image/png": "[encoded data removed]",
      "text/plain": [
       "<Figure size 432x288 with 1 Axes>"
      ]
     },
     "metadata": {
      "needs_background": "light",
      "tags": []
     },
     "output_type": "display_data"
    }
   ],
   "source": [
    "learner.recorder.plot(skip_end=15)"
   ]
  },
  {
   "cell_type": "markdown",
   "metadata": {
    "colab_type": "text",
    "id": "VD9OeHn6jPoc"
   },
   "source": [
    "* Training the model with learning rate 1e-2 using fit_one_cycle"
   ]
  },
  {
   "cell_type": "code",
   "execution_count": 88,
   "metadata": {
    "colab": {
     "base_uri": "https://localhost:8080/",
     "height": 79
    },
    "colab_type": "code",
    "id": "MNqXcZ67hL8y",
    "outputId": "bd7ac59b-2fd7-4104-ef1d-89278f9de306"
   },
   "outputs": [
    {
     "data": {
      "text/html": [
       "<table border=\"1\" class=\"dataframe\">\n",
       "  <thead>\n",
       "    <tr style=\"text-align: left;\">\n",
       "      <th>epoch</th>\n",
       "      <th>train_loss</th>\n",
       "      <th>valid_loss</th>\n",
       "      <th>accuracy</th>\n",
       "      <th>time</th>\n",
       "    </tr>\n",
       "  </thead>\n",
       "  <tbody>\n",
       "    <tr>\n",
       "      <td>0</td>\n",
       "      <td>4.245914</td>\n",
       "      <td>4.005554</td>\n",
       "      <td>0.286548</td>\n",
       "      <td>02:56</td>\n",
       "    </tr>\n",
       "  </tbody>\n",
       "</table>"
      ],
      "text/plain": [
       "<IPython.core.display.HTML object>"
      ]
     },
     "metadata": {
      "tags": []
     },
     "output_type": "display_data"
    }
   ],
   "source": [
    "learner.fit_one_cycle(1, 1e-2) "
   ]
  },
  {
   "cell_type": "code",
   "execution_count": 0,
   "metadata": {
    "colab": {},
    "colab_type": "code",
    "id": "NWvHoNSxmAKQ"
   },
   "outputs": [],
   "source": [
    "learner.save('fit_head')"
   ]
  },
  {
   "cell_type": "markdown",
   "metadata": {
    "colab_type": "text",
    "id": "mwzNZVPzlAhv"
   },
   "source": [
    "From above, We get an accuracy of 28% after running just one epoch."
   ]
  },
  {
   "cell_type": "markdown",
   "metadata": {
    "colab_type": "text",
    "id": "-jfFTsMKlL4J"
   },
   "source": [
    "* Our model so far trained only the last layers and basically left most of the model exactly as it was\n",
    "* What we really want is to finetune and train the whole model\n",
    "* To complete the fine-tuning, we unfreeze and launch a new training"
   ]
  },
  {
   "cell_type": "code",
   "execution_count": 0,
   "metadata": {
    "colab": {},
    "colab_type": "code",
    "id": "iLYJtCX1hL_y"
   },
   "outputs": [],
   "source": [
    "learner.unfreeze()"
   ]
  },
  {
   "cell_type": "code",
   "execution_count": 92,
   "metadata": {
    "colab": {
     "base_uri": "https://localhost:8080/",
     "height": 110
    },
    "colab_type": "code",
    "id": "8EbYsJy-hME1",
    "outputId": "e734b544-9757-42bc-a755-68fff3388489"
   },
   "outputs": [
    {
     "data": {
      "text/html": [
       "<table border=\"1\" class=\"dataframe\">\n",
       "  <thead>\n",
       "    <tr style=\"text-align: left;\">\n",
       "      <th>epoch</th>\n",
       "      <th>train_loss</th>\n",
       "      <th>valid_loss</th>\n",
       "      <th>accuracy</th>\n",
       "      <th>time</th>\n",
       "    </tr>\n",
       "  </thead>\n",
       "  <tbody>\n",
       "    <tr>\n",
       "      <td>0</td>\n",
       "      <td>3.589197</td>\n",
       "      <td>3.908929</td>\n",
       "      <td>0.296117</td>\n",
       "      <td>03:27</td>\n",
       "    </tr>\n",
       "    <tr>\n",
       "      <td>1</td>\n",
       "      <td>3.415349</td>\n",
       "      <td>3.893844</td>\n",
       "      <td>0.299392</td>\n",
       "      <td>03:27</td>\n",
       "    </tr>\n",
       "  </tbody>\n",
       "</table>"
      ],
      "text/plain": [
       "<IPython.core.display.HTML object>"
      ]
     },
     "metadata": {
      "tags": []
     },
     "output_type": "display_data"
    }
   ],
   "source": [
    "learner.fit_one_cycle(2, 1e-3)"
   ]
  },
  {
   "cell_type": "code",
   "execution_count": 0,
   "metadata": {
    "colab": {},
    "colab_type": "code",
    "id": "HVxHODCyo5Wn"
   },
   "outputs": [],
   "source": [
    "learner.save('fine_tuned_model')"
   ]
  },
  {
   "cell_type": "markdown",
   "metadata": {
    "colab_type": "text",
    "id": "eBh6f3CxqP66"
   },
   "source": [
    "* Let's save the encoder which is responsible for creating and updating the hidden state and will then be used for Classification"
   ]
  },
  {
   "cell_type": "code",
   "execution_count": 0,
   "metadata": {
    "colab": {},
    "colab_type": "code",
    "id": "lnanM39Xo5a7"
   },
   "outputs": [],
   "source": [
    "learner.save_encoder('fine_tuned_encoder')"
   ]
  },
  {
   "cell_type": "markdown",
   "metadata": {
    "colab_type": "text",
    "id": "XZQywLyWrjNB"
   },
   "source": [
    "## Step 3 : Create Classifier"
   ]
  },
  {
   "cell_type": "markdown",
   "metadata": {
    "colab_type": "text",
    "id": "shat_LXQrv0S"
   },
   "source": [
    "* Create a data bunch, TextClasDataBunch, passing the vocab from the language model to make sure that it is going to have exactly the same vocab"
   ]
  },
  {
   "cell_type": "code",
   "execution_count": 96,
   "metadata": {
    "colab": {
     "base_uri": "https://localhost:8080/",
     "height": 17
    },
    "colab_type": "code",
    "id": "NDlwjQkxZW-N",
    "outputId": "74948b90-fcfa-4c47-da73-dbc54e0df1dd"
   },
   "outputs": [
    {
     "data": {
      "text/html": [],
      "text/plain": [
       "<IPython.core.display.HTML object>"
      ]
     },
     "metadata": {
      "tags": []
     },
     "output_type": "display_data"
    },
    {
     "data": {
      "text/html": [],
      "text/plain": [
       "<IPython.core.display.HTML object>"
      ]
     },
     "metadata": {
      "tags": []
     },
     "output_type": "display_data"
    }
   ],
   "source": [
    "data_clas = TextClasDataBunch.from_df('./', train_df=df_trn, valid_df=df_val, vocab=data_lm.train_ds.vocab, bs=32) "
   ]
  },
  {
   "cell_type": "code",
   "execution_count": 0,
   "metadata": {
    "colab": {},
    "colab_type": "code",
    "id": "eM54RspSs24W"
   },
   "outputs": [],
   "source": [
    "data_clas.save('data_clas.pkl')"
   ]
  },
  {
   "cell_type": "code",
   "execution_count": 97,
   "metadata": {
    "colab": {
     "base_uri": "https://localhost:8080/",
     "height": 341
    },
    "colab_type": "code",
    "id": "WCNjOAfJsQBZ",
    "outputId": "5a9cac84-9b23-4d09-9bde-312ad07cbc70"
   },
   "outputs": [
    {
     "data": {
      "text/html": [
       "<table border=\"1\" class=\"dataframe\">\n",
       "  <thead>\n",
       "    <tr style=\"text-align: right;\">\n",
       "      <th>text</th>\n",
       "      <th>target</th>\n",
       "    </tr>\n",
       "  </thead>\n",
       "  <tbody>\n",
       "    <tr>\n",
       "      <td>xxbos xxmaj there 's a sign on xxmaj the xxmaj lost xxmaj highway that says : \\n \\n  * xxup major xxup spoilers xxup ahead * \\n \\n  ( but you already knew that , did n't you ? ) \\n \\n  xxmaj since there 's a great deal of people that apparently did not get the point of this movie , i 'd like to contribute</td>\n",
       "      <td>1</td>\n",
       "    </tr>\n",
       "    <tr>\n",
       "      <td>xxbos ' xxmaj the xxmaj merchant of xxmaj venice ' is one of xxmaj shakespeare 's better - known plays and is still regularly performed in the theatre . xxmaj incredibly , however , this film would seem to be the first - ever xxmaj english - language version made for the cinema rather than television . xxmaj there were a number of versions made in xxmaj britain or xxmaj</td>\n",
       "      <td>1</td>\n",
       "    </tr>\n",
       "    <tr>\n",
       "      <td>xxbos xxmaj the xxmaj merchant of xxmaj venice 8 / 10 \\n \\n  ( xxmaj this review assumes a basic knowledge of the story and so may be thought of as containing spoilers to anyone unfamiliar with the plot . ) \\n \\n  xxmaj as a film version of the famous xxmaj shakespeare play , xxmaj merchant of xxmaj venice does what few adaptations have done since xxmaj</td>\n",
       "      <td>1</td>\n",
       "    </tr>\n",
       "    <tr>\n",
       "      <td>xxbos \" xxmaj empire xxmaj strikes xxmaj back \" director xxmaj irvin xxmaj kershner 's \" xxmaj never xxmaj say xxmaj never xxmaj again , \" a remake of the 1965 xxmaj james xxmaj bond movie \" xxmaj thunderball , \" does n't surpasses the xxmaj terence xxmaj young original , but this non - xxmaj harry xxmaj saltzman &amp; xxmaj albert xxup r. xxmaj broccoli film is well worth</td>\n",
       "      <td>1</td>\n",
       "    </tr>\n",
       "    <tr>\n",
       "      <td>xxbos xxmaj years ago , when xxup darling xxup lili played on xxup tv , it was always the pan and scan version , which i hated and decided to wait and see the film in its proper widescreen format . xxmaj so when i saw an inexpensive xxup dvd of this xxmaj julie xxmaj andrews / xxmaj blake xxmaj edwards opus , i decided to purchase and watch it</td>\n",
       "      <td>0</td>\n",
       "    </tr>\n",
       "  </tbody>\n",
       "</table>"
      ],
      "text/plain": [
       "<IPython.core.display.HTML object>"
      ]
     },
     "metadata": {
      "tags": []
     },
     "output_type": "display_data"
    }
   ],
   "source": [
    "data_clas.show_batch() "
   ]
  },
  {
   "cell_type": "markdown",
   "metadata": {
    "colab_type": "text",
    "id": "wJ8b7vbutOpK"
   },
   "source": [
    "* Create a text classifier learner by loading in our model alongwith the encoder"
   ]
  },
  {
   "cell_type": "code",
   "execution_count": 100,
   "metadata": {
    "colab": {
     "base_uri": "https://localhost:8080/",
     "height": 1000
    },
    "colab_type": "code",
    "id": "t_xWDMBksQJU",
    "outputId": "e7d61aa1-d9de-4c75-d1ca-c1764839d244"
   },
   "outputs": [
    {
     "data": {
      "text/plain": [
       "RNNLearner(data=TextClasDataBunch;\n",
       "\n",
       "Train: LabelList (5000 items)\n",
       "x: TextList\n",
       "xxbos i have no words to really describe this series . \n",
       " \n",
       "  xxmaj the premise behind this concept ( a highly hyperactive girl with a very eccentric personality which ends up whirling up a team of xxunk into her own rendering of the world , which after all was a creation of xxmaj haruhi , since she wants a world with aliens , espers and time travelers ) is a breath of fresh air in a world ridden with repetitive anime series and non innovative xxup tv shows . \n",
       " \n",
       "  xxmaj characters are well developed , and you will end up loving them , some less than others . xxmaj the word to describe the animation job does not exist , since \" excellent \" would really fall short to describe how was done . xxmaj there are many funny situations which either will make you smile or put you into deep thoughts . xxmaj do n't fall for the impression of the first episode , since that 's only the tip of the iceberg , as the novels are yet to come . \n",
       " \n",
       "  xxmaj the only problem comes due to the lack of chronological order in the episodes , but you can solve that problem , no ? \n",
       " \n",
       "  xxmaj conclusion : xxmaj unquestionably , one of the best series of 2006 .,xxbos i tend to fall in and out of love with anime , as the more you watch the more you notice a lot of shows are just poor copies of the few gems or rehashes of old formulas . xxmaj but every once in a while one of the true gems comes along and it 's originality just blows you away . xxmaj haruhi is truly one of those shows . xxmaj many anime series are originally manga and sometimes the translation into an animated show is rather poorly done and does n't utilize the benefits animation has over static drawings . xxmaj haruhi is actually based on a series of light novels and fires on all cylinders , beautiful animation , great voice acting , great music and a complete and well paced story . xxmaj watch it you wo n't be disappointed , and i 'd suggest watching it in broadcast order it works so much better that way .,xxbos xxmaj on the surface xxup tmhs appears to be yet another generic high school drama ; but surprisingly hidden away underneath is immense amounts of depth , originality and xxunk that will not only render it unforgettable to the viewer , but also makes it indisputably one of the best animes that the medium has produced in the last few years . \n",
       " \n",
       "  xxmaj we see the world through the eyes of xxmaj kyon , who on his first day of xxmaj high xxmaj school meets xxmaj haruhi xxmaj suzumiya , a girl that boldly claims to the rest of the class she has no interest in ' normal humans ' and to top it off casually invites any aliens , time travellers , xxunk or espers to meet up with her . xxmaj kyon stares in disbelief , wondering if she s joking or has a few screws loose . xxmaj however defying his gut instincts he begins talking to her . xxmaj in doing so it soon becomes apparent she is n't some ordinary high schooler . xxmaj not to long after , she creates her own aptly named ' xxup sos xxmaj brigade ' school club , and drags xxmaj kyon amongst other highly unfortunate people to attend . \n",
       " \n",
       "  xxmaj nothing in this anime conforms to the usual standard conventions , xxmaj kyon the protagonist is an overly cynical pessimist , and contributes a witty narration to the show . a far - cry from the usual xxup 2d male leading characters that tends to populate the medium . xxmaj the episodes themselves are not chronological , and forces the viewer to think about the events unfolding and how they relate to prior instances . xxmaj this is a stroke of genius ; the effect is like a jig - saw puzzle , as a new piece is layed we get more of a sense of the bigger picture . xxmaj previous scenes are now given entire new meanings , and the realization of them are profoundly satisfying . xxmaj this does mean however that it feels dis - xxunk ( its anything but ) , a very cleverly written script has bypassed this problem and ensured that it flows smoothly from start to finish . \n",
       " \n",
       "  xxmaj the story itself is strikingly original , but i wo n't delve further than the simple bare - bones plot outline i gave earlier , as it will no doubt spoil it for you . xxmaj however what i will mention is the plot incorporates a vast array of genres , ranging from comedy to sci - fi . xxmaj how they managed to accomplish this in the space of fourteen episodes is beyond me , and no doubt a huge achievement in itself . \n",
       " \n",
       "  xxup tmhs is a true gem , which has such diversity and depth that it will appeal to pretty much anyone with an interest in anime . xxmaj watch it , rather unusually this is something that lives up to the enormous hype that it has xxunk and even exceeds it .,xxbos xxmaj the xxmaj melancholy of xxmaj haruhi xxmaj suzumiya is an anime that left quite the impression on me . xxmaj partially for the characters , many of whom fall into anime fantasy / sci - fi stereotypes , but placing these stereotypes in the rather mundane setting of high school is a twist that i appreciated . xxmaj then there 's the somewhat insane titular character who is something else : a headstrong , almost amoral , girl with ridiculous amounts of talent and a secret that she 's not aware of . \n",
       " \n",
       "  xxmaj the set - up for the series is a bit of a mind - trip . xxmaj essentially xxmaj suzumiya , xxunk to herself , is a sort of super - powerful being , capable of god - like xxunk of creation and destruction , as she can destroy and rebuild reality to her whim . xxmaj our narrator and primary character is xxmaj kyon , a high schooler whose sympathy / curiosity for xxmaj haruhi appears to cause her to drag him , against his will , into a club she 's starting to spice up her life , because she 's bored with the normal life . xxmaj searching for adventure , she claims three more unusual members , each with secrets and they all end up being dragged into her crazy schemes . \n",
       " \n",
       "  xxmaj there is a bit of crazy , but enjoyable , xxunk consideration early on as we debate whether the world is merely xxmaj haruhi 's creation as she gets bored of the old one and whether our characters exist to serve her or serve her to continue to exist or whether they could exist without her . xxmaj it 's a bit of a conundrum , but an enjoyable one all the same . xxmaj while sci - fi / fantasy scenarios do occasionally occur in the series , i think the joy of the series lies in how normal things are , while there remains this tension in knowing that if things are too boring , xxmaj haruhi might destroy the world in hopes of making it more interesting . \n",
       " \n",
       "  xxmaj the art is clean and in line with what i 've come to expect from the anime that typically gets imported to the xxup us ; i like the character designs and while there is n't a whole lot of action in the series , i think it sits better that way . xxmaj the series is narrated from the mind of xxmaj kyon and he does n't play an xxunk narrator but only comments on what he knows and what he feels . xxmaj he 's has a lot going on in his head , but he does n't actually speak a whole lot so it 's good that we get to hear it . \n",
       " \n",
       "  xxmaj the voice acting in the xxmaj english dub is acceptable enough , but i prefer the xxmaj japanese acting over it . xxmaj there are some stranger aspects to the series , some of which both parodies and xxunk in fanboy - ism , which i found amusing . xxmaj for the first season , i have to admit that there 's a lack of closure , as the series does n't really have an larger story arc , but seems to take things one at a time , so it 's an easy series to pick up and put down , although i think that because of its rather entertaining qualities , it 's still quite hard to put down . xxmaj it 's also based on a series of light novels and the author was directly involved in the writing of the series . \n",
       " \n",
       "  xxmaj even though it 's based on the novels , i still wish that the over series had stronger story arcs , but i love how naturally we get to watch these characters develop and how well the series can play out the quiet moments as well as the crazier ones . xxmaj seeing xxmaj haruhi grow herself was quite a treat as well as watching the relationships develop between the xxup sos xxmaj brigade ( xxmaj haruhi 's club ) . \n",
       " \n",
       "  xxmaj it 's not for everyone , due to its mind - twisting premise and \" extra - ordinary beings in a mundane world \" setting . xxmaj it probably wo n't xxunk fanboys who are into action / sci - fi / fantasy and might be a little too off - kilter for the more relationship - oriented drama lovers , but for those willing to try out something a little different , or that like strangely quirky series like this , i think xxmaj the xxmaj melancholy of xxmaj haruhi xxmaj suzumiya is a rather refreshingly unique and enjoyable series . xxmaj more please . 9 / 10 .,xxbos i first heard about xxmaj the xxmaj melancholy of xxmaj haruhi xxmaj suzumiya from a reviewer on xxmaj youtube . xxmaj he literally slapped the show with a big bad rant , condemning it rubbish and confusing . xxmaj curious , i decided to watch the show ( once i got the order of the episodes right , thanks to those who made the lists ) , and i found it absolutely brilliant and enjoyable to watch . xxmaj great memorable characters who are full of life and are absolutely lovable and hilarious ; a unique and not over blowing plot that makes sense now that i 've watched the show ; and two of the best anime moments in history , in my opinion . xxmaj plus the opening and ending themes are great . \n",
       " \n",
       "  xxmaj the anime , based on a collection of successful manga novels , follows a simple plot , once you understand it . xxmaj while the show 's focus is on the main character , xxmaj haruhi xxmaj suzumiya , the point of view is from her friend xxmaj kyon . xxmaj kyon is a regular high school student who does n't really believe in supernatural stuff ( e.g. xxmaj santa xxmaj clause , aliens , time travellers , ghosts , espers ) but he soon ends up talking to xxmaj haruhi , who is the most oddest girl in the school and would prefer to date an alien , considering all men worthless . xxmaj she even joined every club in the school to find something interesting , but quit as quickly as she joined . xxmaj upon \" advice \" from xxmaj kyon , xxmaj haruhi decides to form her own club with xxmaj kyon 's club . xxmaj setting up in the literary club room , xxmaj haruhi forms the xxup sos xxmaj brigade - its mission to investigate supernatural cases ( think xxmaj scooby - xxmaj doo minus the dog , the masked man and the xxmaj mystery xxmaj machine ) . \n",
       " \n",
       "  xxmaj haruhi \" recruits \" three extra members . xxmaj the first is xxmaj yuki xxmaj nagato , a xxunk of sorts who speaks very little and spends most of her time reading and sitting . xxmaj the second is xxmaj mikuru xxmaj asahina , a shy girl who is forced into the club by xxmaj haruhi who thinks they need a cute mascot to get some things done . xxmaj she is often forced into costumes by xxmaj haruhi to further her cuteness . xxmaj the third is xxmaj itsuki xxmaj koizumi , a friendly and xxunk transfer student who is always smiling . xxmaj while xxmaj haruhi thinks her group is filled with normal people she could n't be more wrong . xxmaj while xxmaj kyon is as normal as you can get , the other three on the other hand are rather unique - xxmaj yuki is an alien , xxmaj mikuru is a time traveller from the future , and xxmaj itsuki is an esper ( a person who has xxup esp ) . xxmaj all three have come to watch over xxmaj haruhi who may just have the powers of a god , and if she becomes bored , she may be able to discover her powers and create a whole new world , and xxmaj kyon is involved somehow . \n",
       " \n",
       "  xxmaj the show is worth watching with great characters , music and some hilarious and wonderful moments . xxmaj however , for parents , there is some sexual references including xxmaj mikuru 's cleavage being exposed or touched several times , and several swear words used as well . xxmaj apart from that , the show is one of the greats .\n",
       "y: CategoryList\n",
       "1,1,1,1,1\n",
       "Path: .;\n",
       "\n",
       "Valid: LabelList (3000 items)\n",
       "x: TextList\n",
       "xxbos xxmaj xxunk came out in 1993 , just as 3 of the 4 lead characters were up and coming to the levels of fame they now possess in 2006 . xxmaj this is a nice psycho - thriller that should appeal to all xxmaj david xxmaj xxunk fans because of his dry and intelligent narratives that find their ways into his work , like with most of his episodes of the x - xxmaj files , xxmaj playing xxmaj god , and xxmaj red xxmaj shoe xxmaj diaries . \n",
       " \n",
       "  xxmaj people who were put off by the heavy southern accent from xxmaj brad xxmaj pitt and xxmaj juliette xxmaj lewis ' characters obviously have never spent much time in the south . xxmaj for every \" xxmaj brian and xxmaj carrie \" in the south , there is an \" xxmaj xxunk and xxmaj early \" and in 2006 , that 's the real horror of this flick . \n",
       " \n",
       "  xxmaj aside from that , i think the film was written with a cult film intention - like with xxmaj carrie 's photography , it 's not suitable for mass consumption . xxmaj but if you have a copy of this in your personal library , i think it says something positive about your tastes for freaky movies .,xxbos i had seen ' xxmaj xxunk ' before ( must be about 10 years ago ) and i still remember to be very impressed by it . xxmaj that 's why i wanted to see it again and all i can say is that it still has n't lost its power , even though i 'm used to a lot more when it comes to movies than that i was ten years ago . \n",
       " \n",
       "  ' xxmaj xxunk ' tells the tale of the writer xxmaj brian xxmaj xxunk and his girlfriend xxmaj carrie xxmaj laughlin , a photographer , who want to move to xxmaj california . xxmaj but instead of stepping on a plain and flying right to the state where they say it never xxunk , they choose to make a trip by car . xxmaj he wants to write a book about xxmaj america 's most famous serial killers and she will make the matching pictures . xxmaj but because their car uses an enormous amount of petrol , they decide to take another couple with them , so they can spread the costs of the trip . xxmaj only one couple has answered the add , so they will automatically be the lucky ones . xxmaj but they have n't met each other yet and when seeing the other couple for the first time , when their trip has already started , xxmaj carrie is shocked . xxmaj without wanting to be prejudiced , she can only conclude that xxmaj early xxmaj xxunk and xxmaj xxunk xxmaj corners are poor white trailer park trash . xxmaj she definitely does n't want them in her car , but xxmaj brian does n't really mind to take them with them and decides to stop and pick them up anyway . xxmaj at first the couple does n't seem to be that bad after all , but gradually xxmaj early xxmaj xxunk changes from a trashy hillbilly into a remorseless murderer ... \n",
       " \n",
       "  xxmaj not only is the story very impressive , so is the acting from our four leads . xxmaj brad xxmaj pitt is incredible as xxmaj early xxmaj xxunk . xxmaj his performance in this movie may well be his best ever . xxmaj the same for xxmaj juliette xxmaj lewis . xxmaj she plays the childish and naive girlfriend that does n't want to hear a bad word about her xxmaj early and does that really very well . xxmaj but xxmaj david xxmaj xxunk and xxmaj michelle xxmaj forbes are a surprise as well . xxmaj they both did a very good job and i really wonder why we never heard anything from xxmaj forbes again since this movie , because she really proves to have a lot of talent . \n",
       " \n",
       "  xxmaj overall this is a very good and impressive psychological thriller with a very powerful story , but because of the graphic violence , i can imagine that it may not be to everybody 's taste ( although i do n't really see another way how to portray a serial killer in a believable way ) . xxmaj personally i really liked this movie a lot and the violence never bothered me ( it 's a part of the story that 's too important to be left out ) . i reward this movie with an 8 / 10 .,xxbos i just got done watching \" xxmaj xxunk \" on xxmaj showtime for the fourth time since i first saw it back in xxmaj july of 2001 . xxmaj you would think that with the recent wave of serial killer films , that \" xxmaj xxunk \" would be amongst some of the earlier films worthy of mention but has n't . xxmaj perhaps if this film had been released sometime between like 1996 - 1999 , maybe it might have been more successful . xxmaj in my opinion , \" xxmaj xxunk \" is much different from most serial killer films released during the late 1990s . xxmaj it has an almost completely different atmosphere from most of today 's serial killer films like \" xxmaj seven \" or \" xxmaj the xxmaj bone xxmaj collector \" . xxmaj many serial killer films have shown a killer but that person is always behind a mask or we never see enough of them to actually learn anything about them . \" xxmaj xxunk \" is a film that actually tries to break through that barrier and actually understand the criminal mind . xxmaj it tries to answer questions like \" why do they do the things they do ? xxmaj is it because of something that happened in their past ? xxmaj does it make them feel superior or powerful ? xxmaj or do they do it because they like the thrill of the kill ? \" xxmaj these are some of the things that \" xxmaj xxunk \" tries to answer but also leaves room for us to try and figure things out for ourselves . xxmaj brad xxmaj pitt makes an everlasting impression as xxmaj early xxmaj xxunk . xxmaj when we first meet xxmaj early in the beginning of the film , we see that he is obviously one disturbed individual . xxmaj when we first see him , it 's late at night . xxmaj early is possibly drunk . xxmaj we then see him pick up a rock , throw it off a bridge , and it later lands on the windshield of a passing car . xxmaj pitt is fierce in this film . xxmaj it is always good to see him when he plays xxunk or really bad people . xxmaj it 's funny that this would later lead him play a true loon like in \" 12 xxmaj monkeys \" and that he would be on the other end of the spectrum in xxmaj david xxmaj fincher 's \" xxmaj seven \" .,xxbos it 's amazing that so many people that i know have n't seen this little gem . everybody i have turned on to it have come back with the same reaction : xxup what a xxup great xxup movie ! ! \n",
       " \n",
       "  i 've never much cared for xxmaj brad xxmaj pitt ( though his turns in 12 monkeys and xxmaj fight xxmaj club show improvement ) but his performance in this film as a psycho is unnerving , dark and right on target . \n",
       " \n",
       "  everyone else in the film gives excellent performances and the movie 's slow and deliberate pacing greatly enhance the proceedings . the sense of dread for the characters keeps increasing as they come to realize what has been really happening . \n",
       " \n",
       "  the only thing that keeps this from a 10 in my book , is that compared to what came before it , the ending is a bit too long and overblown . but that 's the only flaw i could find in this cult classic . \n",
       " \n",
       "  if you check this film out , try to get the xxunk unrated director 's cut for the best viewing option . \n",
       " \n",
       "  xxunk,xxbos \" xxmaj xxunk \" is one of my all - time favourite movies , and it easily could be labeled as one of the best psychological thrillers of the xxunk . xxmaj the film has a very stylish surface to it , but behind that are a lot of disturbing and honest depictions of homicidal maniacs and the xxunk violence they inflict upon others . xxmaj one of the xxunk strongest aspects is it`s performances , xxmaj brad xxmaj pitt is startlingly great as a trailer - trash psycho named xxmaj early . xxmaj pitt xxunk his frightening character almost flawlessly . xxmaj juliette xxmaj lewis is equally as good playing his naive girlfriend , her innocence is almost heart - breaking . \" xxmaj xxunk \" has a very simple plot to it , that goes steadily and slowly forward for about an hour , but it suddenly plunges into a harrowing spree of murder , as xxmaj pitt unleashes his psychotic personality . xxmaj there are alot of shocking scenes , and it all xxunk to a power - house climax that will haunt you for days . \" xxmaj xxunk \" is a film that should really be watched for it`s intense look at how monstrous a human being can be , and not only for it`s violence and gore .\n",
       "y: CategoryList\n",
       "1,1,1,1,1\n",
       "Path: .;\n",
       "\n",
       "Test: None, model=SequentialRNN(\n",
       "  (0): MultiBatchEncoder(\n",
       "    (module): AWD_LSTM(\n",
       "      (encoder): Embedding(21816, 400, padding_idx=1)\n",
       "      (encoder_dp): EmbeddingDropout(\n",
       "        (emb): Embedding(21816, 400, padding_idx=1)\n",
       "      )\n",
       "      (rnns): ModuleList(\n",
       "        (0): WeightDropout(\n",
       "          (module): LSTM(400, 1152, batch_first=True)\n",
       "        )\n",
       "        (1): WeightDropout(\n",
       "          (module): LSTM(1152, 1152, batch_first=True)\n",
       "        )\n",
       "        (2): WeightDropout(\n",
       "          (module): LSTM(1152, 400, batch_first=True)\n",
       "        )\n",
       "      )\n",
       "      (input_dp): RNNDropout()\n",
       "      (hidden_dps): ModuleList(\n",
       "        (0): RNNDropout()\n",
       "        (1): RNNDropout()\n",
       "        (2): RNNDropout()\n",
       "      )\n",
       "    )\n",
       "  )\n",
       "  (1): PoolingLinearClassifier(\n",
       "    (layers): Sequential(\n",
       "      (0): BatchNorm1d(1200, eps=1e-05, momentum=0.1, affine=True, track_running_stats=True)\n",
       "      (1): Dropout(p=0.2, inplace=False)\n",
       "      (2): Linear(in_features=1200, out_features=50, bias=True)\n",
       "      (3): ReLU(inplace=True)\n",
       "      (4): BatchNorm1d(50, eps=1e-05, momentum=0.1, affine=True, track_running_stats=True)\n",
       "      (5): Dropout(p=0.1, inplace=False)\n",
       "      (6): Linear(in_features=50, out_features=2, bias=True)\n",
       "    )\n",
       "  )\n",
       "), opt_func=functools.partial(<class 'torch.optim.adam.Adam'>, betas=(0.9, 0.99)), loss_func=FlattenedLoss of CrossEntropyLoss(), metrics=[<function accuracy at 0x7fcbce64cc80>], true_wd=True, bn_wd=True, wd=0.01, train_bn=True, path=PosixPath('.'), model_dir='models', callback_fns=[functools.partial(<class 'fastai.basic_train.Recorder'>, add_time=True, silent=False)], callbacks=[RNNTrainer\n",
       "learn: RNNLearner(data=TextClasDataBunch;\n",
       "\n",
       "Train: LabelList (5000 items)\n",
       "x: TextList\n",
       "xxbos i have no words to really describe this series . \n",
       " \n",
       "  xxmaj the premise behind this concept ( a highly hyperactive girl with a very eccentric personality which ends up whirling up a team of xxunk into her own rendering of the world , which after all was a creation of xxmaj haruhi , since she wants a world with aliens , espers and time travelers ) is a breath of fresh air in a world ridden with repetitive anime series and non innovative xxup tv shows . \n",
       " \n",
       "  xxmaj characters are well developed , and you will end up loving them , some less than others . xxmaj the word to describe the animation job does not exist , since \" excellent \" would really fall short to describe how was done . xxmaj there are many funny situations which either will make you smile or put you into deep thoughts . xxmaj do n't fall for the impression of the first episode , since that 's only the tip of the iceberg , as the novels are yet to come . \n",
       " \n",
       "  xxmaj the only problem comes due to the lack of chronological order in the episodes , but you can solve that problem , no ? \n",
       " \n",
       "  xxmaj conclusion : xxmaj unquestionably , one of the best series of 2006 .,xxbos i tend to fall in and out of love with anime , as the more you watch the more you notice a lot of shows are just poor copies of the few gems or rehashes of old formulas . xxmaj but every once in a while one of the true gems comes along and it 's originality just blows you away . xxmaj haruhi is truly one of those shows . xxmaj many anime series are originally manga and sometimes the translation into an animated show is rather poorly done and does n't utilize the benefits animation has over static drawings . xxmaj haruhi is actually based on a series of light novels and fires on all cylinders , beautiful animation , great voice acting , great music and a complete and well paced story . xxmaj watch it you wo n't be disappointed , and i 'd suggest watching it in broadcast order it works so much better that way .,xxbos xxmaj on the surface xxup tmhs appears to be yet another generic high school drama ; but surprisingly hidden away underneath is immense amounts of depth , originality and xxunk that will not only render it unforgettable to the viewer , but also makes it indisputably one of the best animes that the medium has produced in the last few years . \n",
       " \n",
       "  xxmaj we see the world through the eyes of xxmaj kyon , who on his first day of xxmaj high xxmaj school meets xxmaj haruhi xxmaj suzumiya , a girl that boldly claims to the rest of the class she has no interest in ' normal humans ' and to top it off casually invites any aliens , time travellers , xxunk or espers to meet up with her . xxmaj kyon stares in disbelief , wondering if she s joking or has a few screws loose . xxmaj however defying his gut instincts he begins talking to her . xxmaj in doing so it soon becomes apparent she is n't some ordinary high schooler . xxmaj not to long after , she creates her own aptly named ' xxup sos xxmaj brigade ' school club , and drags xxmaj kyon amongst other highly unfortunate people to attend . \n",
       " \n",
       "  xxmaj nothing in this anime conforms to the usual standard conventions , xxmaj kyon the protagonist is an overly cynical pessimist , and contributes a witty narration to the show . a far - cry from the usual xxup 2d male leading characters that tends to populate the medium . xxmaj the episodes themselves are not chronological , and forces the viewer to think about the events unfolding and how they relate to prior instances . xxmaj this is a stroke of genius ; the effect is like a jig - saw puzzle , as a new piece is layed we get more of a sense of the bigger picture . xxmaj previous scenes are now given entire new meanings , and the realization of them are profoundly satisfying . xxmaj this does mean however that it feels dis - xxunk ( its anything but ) , a very cleverly written script has bypassed this problem and ensured that it flows smoothly from start to finish . \n",
       " \n",
       "  xxmaj the story itself is strikingly original , but i wo n't delve further than the simple bare - bones plot outline i gave earlier , as it will no doubt spoil it for you . xxmaj however what i will mention is the plot incorporates a vast array of genres , ranging from comedy to sci - fi . xxmaj how they managed to accomplish this in the space of fourteen episodes is beyond me , and no doubt a huge achievement in itself . \n",
       " \n",
       "  xxup tmhs is a true gem , which has such diversity and depth that it will appeal to pretty much anyone with an interest in anime . xxmaj watch it , rather unusually this is something that lives up to the enormous hype that it has xxunk and even exceeds it .,xxbos xxmaj the xxmaj melancholy of xxmaj haruhi xxmaj suzumiya is an anime that left quite the impression on me . xxmaj partially for the characters , many of whom fall into anime fantasy / sci - fi stereotypes , but placing these stereotypes in the rather mundane setting of high school is a twist that i appreciated . xxmaj then there 's the somewhat insane titular character who is something else : a headstrong , almost amoral , girl with ridiculous amounts of talent and a secret that she 's not aware of . \n",
       " \n",
       "  xxmaj the set - up for the series is a bit of a mind - trip . xxmaj essentially xxmaj suzumiya , xxunk to herself , is a sort of super - powerful being , capable of god - like xxunk of creation and destruction , as she can destroy and rebuild reality to her whim . xxmaj our narrator and primary character is xxmaj kyon , a high schooler whose sympathy / curiosity for xxmaj haruhi appears to cause her to drag him , against his will , into a club she 's starting to spice up her life , because she 's bored with the normal life . xxmaj searching for adventure , she claims three more unusual members , each with secrets and they all end up being dragged into her crazy schemes . \n",
       " \n",
       "  xxmaj there is a bit of crazy , but enjoyable , xxunk consideration early on as we debate whether the world is merely xxmaj haruhi 's creation as she gets bored of the old one and whether our characters exist to serve her or serve her to continue to exist or whether they could exist without her . xxmaj it 's a bit of a conundrum , but an enjoyable one all the same . xxmaj while sci - fi / fantasy scenarios do occasionally occur in the series , i think the joy of the series lies in how normal things are , while there remains this tension in knowing that if things are too boring , xxmaj haruhi might destroy the world in hopes of making it more interesting . \n",
       " \n",
       "  xxmaj the art is clean and in line with what i 've come to expect from the anime that typically gets imported to the xxup us ; i like the character designs and while there is n't a whole lot of action in the series , i think it sits better that way . xxmaj the series is narrated from the mind of xxmaj kyon and he does n't play an xxunk narrator but only comments on what he knows and what he feels . xxmaj he 's has a lot going on in his head , but he does n't actually speak a whole lot so it 's good that we get to hear it . \n",
       " \n",
       "  xxmaj the voice acting in the xxmaj english dub is acceptable enough , but i prefer the xxmaj japanese acting over it . xxmaj there are some stranger aspects to the series , some of which both parodies and xxunk in fanboy - ism , which i found amusing . xxmaj for the first season , i have to admit that there 's a lack of closure , as the series does n't really have an larger story arc , but seems to take things one at a time , so it 's an easy series to pick up and put down , although i think that because of its rather entertaining qualities , it 's still quite hard to put down . xxmaj it 's also based on a series of light novels and the author was directly involved in the writing of the series . \n",
       " \n",
       "  xxmaj even though it 's based on the novels , i still wish that the over series had stronger story arcs , but i love how naturally we get to watch these characters develop and how well the series can play out the quiet moments as well as the crazier ones . xxmaj seeing xxmaj haruhi grow herself was quite a treat as well as watching the relationships develop between the xxup sos xxmaj brigade ( xxmaj haruhi 's club ) . \n",
       " \n",
       "  xxmaj it 's not for everyone , due to its mind - twisting premise and \" extra - ordinary beings in a mundane world \" setting . xxmaj it probably wo n't xxunk fanboys who are into action / sci - fi / fantasy and might be a little too off - kilter for the more relationship - oriented drama lovers , but for those willing to try out something a little different , or that like strangely quirky series like this , i think xxmaj the xxmaj melancholy of xxmaj haruhi xxmaj suzumiya is a rather refreshingly unique and enjoyable series . xxmaj more please . 9 / 10 .,xxbos i first heard about xxmaj the xxmaj melancholy of xxmaj haruhi xxmaj suzumiya from a reviewer on xxmaj youtube . xxmaj he literally slapped the show with a big bad rant , condemning it rubbish and confusing . xxmaj curious , i decided to watch the show ( once i got the order of the episodes right , thanks to those who made the lists ) , and i found it absolutely brilliant and enjoyable to watch . xxmaj great memorable characters who are full of life and are absolutely lovable and hilarious ; a unique and not over blowing plot that makes sense now that i 've watched the show ; and two of the best anime moments in history , in my opinion . xxmaj plus the opening and ending themes are great . \n",
       " \n",
       "  xxmaj the anime , based on a collection of successful manga novels , follows a simple plot , once you understand it . xxmaj while the show 's focus is on the main character , xxmaj haruhi xxmaj suzumiya , the point of view is from her friend xxmaj kyon . xxmaj kyon is a regular high school student who does n't really believe in supernatural stuff ( e.g. xxmaj santa xxmaj clause , aliens , time travellers , ghosts , espers ) but he soon ends up talking to xxmaj haruhi , who is the most oddest girl in the school and would prefer to date an alien , considering all men worthless . xxmaj she even joined every club in the school to find something interesting , but quit as quickly as she joined . xxmaj upon \" advice \" from xxmaj kyon , xxmaj haruhi decides to form her own club with xxmaj kyon 's club . xxmaj setting up in the literary club room , xxmaj haruhi forms the xxup sos xxmaj brigade - its mission to investigate supernatural cases ( think xxmaj scooby - xxmaj doo minus the dog , the masked man and the xxmaj mystery xxmaj machine ) . \n",
       " \n",
       "  xxmaj haruhi \" recruits \" three extra members . xxmaj the first is xxmaj yuki xxmaj nagato , a xxunk of sorts who speaks very little and spends most of her time reading and sitting . xxmaj the second is xxmaj mikuru xxmaj asahina , a shy girl who is forced into the club by xxmaj haruhi who thinks they need a cute mascot to get some things done . xxmaj she is often forced into costumes by xxmaj haruhi to further her cuteness . xxmaj the third is xxmaj itsuki xxmaj koizumi , a friendly and xxunk transfer student who is always smiling . xxmaj while xxmaj haruhi thinks her group is filled with normal people she could n't be more wrong . xxmaj while xxmaj kyon is as normal as you can get , the other three on the other hand are rather unique - xxmaj yuki is an alien , xxmaj mikuru is a time traveller from the future , and xxmaj itsuki is an esper ( a person who has xxup esp ) . xxmaj all three have come to watch over xxmaj haruhi who may just have the powers of a god , and if she becomes bored , she may be able to discover her powers and create a whole new world , and xxmaj kyon is involved somehow . \n",
       " \n",
       "  xxmaj the show is worth watching with great characters , music and some hilarious and wonderful moments . xxmaj however , for parents , there is some sexual references including xxmaj mikuru 's cleavage being exposed or touched several times , and several swear words used as well . xxmaj apart from that , the show is one of the greats .\n",
       "y: CategoryList\n",
       "1,1,1,1,1\n",
       "Path: .;\n",
       "\n",
       "Valid: LabelList (3000 items)\n",
       "x: TextList\n",
       "xxbos xxmaj xxunk came out in 1993 , just as 3 of the 4 lead characters were up and coming to the levels of fame they now possess in 2006 . xxmaj this is a nice psycho - thriller that should appeal to all xxmaj david xxmaj xxunk fans because of his dry and intelligent narratives that find their ways into his work , like with most of his episodes of the x - xxmaj files , xxmaj playing xxmaj god , and xxmaj red xxmaj shoe xxmaj diaries . \n",
       " \n",
       "  xxmaj people who were put off by the heavy southern accent from xxmaj brad xxmaj pitt and xxmaj juliette xxmaj lewis ' characters obviously have never spent much time in the south . xxmaj for every \" xxmaj brian and xxmaj carrie \" in the south , there is an \" xxmaj xxunk and xxmaj early \" and in 2006 , that 's the real horror of this flick . \n",
       " \n",
       "  xxmaj aside from that , i think the film was written with a cult film intention - like with xxmaj carrie 's photography , it 's not suitable for mass consumption . xxmaj but if you have a copy of this in your personal library , i think it says something positive about your tastes for freaky movies .,xxbos i had seen ' xxmaj xxunk ' before ( must be about 10 years ago ) and i still remember to be very impressed by it . xxmaj that 's why i wanted to see it again and all i can say is that it still has n't lost its power , even though i 'm used to a lot more when it comes to movies than that i was ten years ago . \n",
       " \n",
       "  ' xxmaj xxunk ' tells the tale of the writer xxmaj brian xxmaj xxunk and his girlfriend xxmaj carrie xxmaj laughlin , a photographer , who want to move to xxmaj california . xxmaj but instead of stepping on a plain and flying right to the state where they say it never xxunk , they choose to make a trip by car . xxmaj he wants to write a book about xxmaj america 's most famous serial killers and she will make the matching pictures . xxmaj but because their car uses an enormous amount of petrol , they decide to take another couple with them , so they can spread the costs of the trip . xxmaj only one couple has answered the add , so they will automatically be the lucky ones . xxmaj but they have n't met each other yet and when seeing the other couple for the first time , when their trip has already started , xxmaj carrie is shocked . xxmaj without wanting to be prejudiced , she can only conclude that xxmaj early xxmaj xxunk and xxmaj xxunk xxmaj corners are poor white trailer park trash . xxmaj she definitely does n't want them in her car , but xxmaj brian does n't really mind to take them with them and decides to stop and pick them up anyway . xxmaj at first the couple does n't seem to be that bad after all , but gradually xxmaj early xxmaj xxunk changes from a trashy hillbilly into a remorseless murderer ... \n",
       " \n",
       "  xxmaj not only is the story very impressive , so is the acting from our four leads . xxmaj brad xxmaj pitt is incredible as xxmaj early xxmaj xxunk . xxmaj his performance in this movie may well be his best ever . xxmaj the same for xxmaj juliette xxmaj lewis . xxmaj she plays the childish and naive girlfriend that does n't want to hear a bad word about her xxmaj early and does that really very well . xxmaj but xxmaj david xxmaj xxunk and xxmaj michelle xxmaj forbes are a surprise as well . xxmaj they both did a very good job and i really wonder why we never heard anything from xxmaj forbes again since this movie , because she really proves to have a lot of talent . \n",
       " \n",
       "  xxmaj overall this is a very good and impressive psychological thriller with a very powerful story , but because of the graphic violence , i can imagine that it may not be to everybody 's taste ( although i do n't really see another way how to portray a serial killer in a believable way ) . xxmaj personally i really liked this movie a lot and the violence never bothered me ( it 's a part of the story that 's too important to be left out ) . i reward this movie with an 8 / 10 .,xxbos i just got done watching \" xxmaj xxunk \" on xxmaj showtime for the fourth time since i first saw it back in xxmaj july of 2001 . xxmaj you would think that with the recent wave of serial killer films , that \" xxmaj xxunk \" would be amongst some of the earlier films worthy of mention but has n't . xxmaj perhaps if this film had been released sometime between like 1996 - 1999 , maybe it might have been more successful . xxmaj in my opinion , \" xxmaj xxunk \" is much different from most serial killer films released during the late 1990s . xxmaj it has an almost completely different atmosphere from most of today 's serial killer films like \" xxmaj seven \" or \" xxmaj the xxmaj bone xxmaj collector \" . xxmaj many serial killer films have shown a killer but that person is always behind a mask or we never see enough of them to actually learn anything about them . \" xxmaj xxunk \" is a film that actually tries to break through that barrier and actually understand the criminal mind . xxmaj it tries to answer questions like \" why do they do the things they do ? xxmaj is it because of something that happened in their past ? xxmaj does it make them feel superior or powerful ? xxmaj or do they do it because they like the thrill of the kill ? \" xxmaj these are some of the things that \" xxmaj xxunk \" tries to answer but also leaves room for us to try and figure things out for ourselves . xxmaj brad xxmaj pitt makes an everlasting impression as xxmaj early xxmaj xxunk . xxmaj when we first meet xxmaj early in the beginning of the film , we see that he is obviously one disturbed individual . xxmaj when we first see him , it 's late at night . xxmaj early is possibly drunk . xxmaj we then see him pick up a rock , throw it off a bridge , and it later lands on the windshield of a passing car . xxmaj pitt is fierce in this film . xxmaj it is always good to see him when he plays xxunk or really bad people . xxmaj it 's funny that this would later lead him play a true loon like in \" 12 xxmaj monkeys \" and that he would be on the other end of the spectrum in xxmaj david xxmaj fincher 's \" xxmaj seven \" .,xxbos it 's amazing that so many people that i know have n't seen this little gem . everybody i have turned on to it have come back with the same reaction : xxup what a xxup great xxup movie ! ! \n",
       " \n",
       "  i 've never much cared for xxmaj brad xxmaj pitt ( though his turns in 12 monkeys and xxmaj fight xxmaj club show improvement ) but his performance in this film as a psycho is unnerving , dark and right on target . \n",
       " \n",
       "  everyone else in the film gives excellent performances and the movie 's slow and deliberate pacing greatly enhance the proceedings . the sense of dread for the characters keeps increasing as they come to realize what has been really happening . \n",
       " \n",
       "  the only thing that keeps this from a 10 in my book , is that compared to what came before it , the ending is a bit too long and overblown . but that 's the only flaw i could find in this cult classic . \n",
       " \n",
       "  if you check this film out , try to get the xxunk unrated director 's cut for the best viewing option . \n",
       " \n",
       "  xxunk,xxbos \" xxmaj xxunk \" is one of my all - time favourite movies , and it easily could be labeled as one of the best psychological thrillers of the xxunk . xxmaj the film has a very stylish surface to it , but behind that are a lot of disturbing and honest depictions of homicidal maniacs and the xxunk violence they inflict upon others . xxmaj one of the xxunk strongest aspects is it`s performances , xxmaj brad xxmaj pitt is startlingly great as a trailer - trash psycho named xxmaj early . xxmaj pitt xxunk his frightening character almost flawlessly . xxmaj juliette xxmaj lewis is equally as good playing his naive girlfriend , her innocence is almost heart - breaking . \" xxmaj xxunk \" has a very simple plot to it , that goes steadily and slowly forward for about an hour , but it suddenly plunges into a harrowing spree of murder , as xxmaj pitt unleashes his psychotic personality . xxmaj there are alot of shocking scenes , and it all xxunk to a power - house climax that will haunt you for days . \" xxmaj xxunk \" is a film that should really be watched for it`s intense look at how monstrous a human being can be , and not only for it`s violence and gore .\n",
       "y: CategoryList\n",
       "1,1,1,1,1\n",
       "Path: .;\n",
       "\n",
       "Test: None, model=SequentialRNN(\n",
       "  (0): MultiBatchEncoder(\n",
       "    (module): AWD_LSTM(\n",
       "      (encoder): Embedding(21816, 400, padding_idx=1)\n",
       "      (encoder_dp): EmbeddingDropout(\n",
       "        (emb): Embedding(21816, 400, padding_idx=1)\n",
       "      )\n",
       "      (rnns): ModuleList(\n",
       "        (0): WeightDropout(\n",
       "          (module): LSTM(400, 1152, batch_first=True)\n",
       "        )\n",
       "        (1): WeightDropout(\n",
       "          (module): LSTM(1152, 1152, batch_first=True)\n",
       "        )\n",
       "        (2): WeightDropout(\n",
       "          (module): LSTM(1152, 400, batch_first=True)\n",
       "        )\n",
       "      )\n",
       "      (input_dp): RNNDropout()\n",
       "      (hidden_dps): ModuleList(\n",
       "        (0): RNNDropout()\n",
       "        (1): RNNDropout()\n",
       "        (2): RNNDropout()\n",
       "      )\n",
       "    )\n",
       "  )\n",
       "  (1): PoolingLinearClassifier(\n",
       "    (layers): Sequential(\n",
       "      (0): BatchNorm1d(1200, eps=1e-05, momentum=0.1, affine=True, track_running_stats=True)\n",
       "      (1): Dropout(p=0.2, inplace=False)\n",
       "      (2): Linear(in_features=1200, out_features=50, bias=True)\n",
       "      (3): ReLU(inplace=True)\n",
       "      (4): BatchNorm1d(50, eps=1e-05, momentum=0.1, affine=True, track_running_stats=True)\n",
       "      (5): Dropout(p=0.1, inplace=False)\n",
       "      (6): Linear(in_features=50, out_features=2, bias=True)\n",
       "    )\n",
       "  )\n",
       "), opt_func=functools.partial(<class 'torch.optim.adam.Adam'>, betas=(0.9, 0.99)), loss_func=FlattenedLoss of CrossEntropyLoss(), metrics=[<function accuracy at 0x7fcbce64cc80>], true_wd=True, bn_wd=True, wd=0.01, train_bn=True, path=PosixPath('.'), model_dir='models', callback_fns=[functools.partial(<class 'fastai.basic_train.Recorder'>, add_time=True, silent=False)], callbacks=[...], layer_groups=[Sequential(\n",
       "  (0): Embedding(21816, 400, padding_idx=1)\n",
       "  (1): EmbeddingDropout(\n",
       "    (emb): Embedding(21816, 400, padding_idx=1)\n",
       "  )\n",
       "), Sequential(\n",
       "  (0): WeightDropout(\n",
       "    (module): LSTM(400, 1152, batch_first=True)\n",
       "  )\n",
       "  (1): RNNDropout()\n",
       "), Sequential(\n",
       "  (0): WeightDropout(\n",
       "    (module): LSTM(1152, 1152, batch_first=True)\n",
       "  )\n",
       "  (1): RNNDropout()\n",
       "), Sequential(\n",
       "  (0): WeightDropout(\n",
       "    (module): LSTM(1152, 400, batch_first=True)\n",
       "  )\n",
       "  (1): RNNDropout()\n",
       "), Sequential(\n",
       "  (0): PoolingLinearClassifier(\n",
       "    (layers): Sequential(\n",
       "      (0): BatchNorm1d(1200, eps=1e-05, momentum=0.1, affine=True, track_running_stats=True)\n",
       "      (1): Dropout(p=0.2, inplace=False)\n",
       "      (2): Linear(in_features=1200, out_features=50, bias=True)\n",
       "      (3): ReLU(inplace=True)\n",
       "      (4): BatchNorm1d(50, eps=1e-05, momentum=0.1, affine=True, track_running_stats=True)\n",
       "      (5): Dropout(p=0.1, inplace=False)\n",
       "      (6): Linear(in_features=50, out_features=2, bias=True)\n",
       "    )\n",
       "  )\n",
       ")], add_time=True, silent=False)\n",
       "alpha: 2.0\n",
       "beta: 1.0], layer_groups=[Sequential(\n",
       "  (0): Embedding(21816, 400, padding_idx=1)\n",
       "  (1): EmbeddingDropout(\n",
       "    (emb): Embedding(21816, 400, padding_idx=1)\n",
       "  )\n",
       "), Sequential(\n",
       "  (0): WeightDropout(\n",
       "    (module): LSTM(400, 1152, batch_first=True)\n",
       "  )\n",
       "  (1): RNNDropout()\n",
       "), Sequential(\n",
       "  (0): WeightDropout(\n",
       "    (module): LSTM(1152, 1152, batch_first=True)\n",
       "  )\n",
       "  (1): RNNDropout()\n",
       "), Sequential(\n",
       "  (0): WeightDropout(\n",
       "    (module): LSTM(1152, 400, batch_first=True)\n",
       "  )\n",
       "  (1): RNNDropout()\n",
       "), Sequential(\n",
       "  (0): PoolingLinearClassifier(\n",
       "    (layers): Sequential(\n",
       "      (0): BatchNorm1d(1200, eps=1e-05, momentum=0.1, affine=True, track_running_stats=True)\n",
       "      (1): Dropout(p=0.2, inplace=False)\n",
       "      (2): Linear(in_features=1200, out_features=50, bias=True)\n",
       "      (3): ReLU(inplace=True)\n",
       "      (4): BatchNorm1d(50, eps=1e-05, momentum=0.1, affine=True, track_running_stats=True)\n",
       "      (5): Dropout(p=0.1, inplace=False)\n",
       "      (6): Linear(in_features=50, out_features=2, bias=True)\n",
       "    )\n",
       "  )\n",
       ")], add_time=True, silent=False)"
      ]
     },
     "execution_count": 100,
     "metadata": {
      "tags": []
     },
     "output_type": "execute_result"
    }
   ],
   "source": [
    "classifier = text_classifier_learner(data_clas, arch=AWD_LSTM ,drop_mult=0.5) \n",
    "classifier.load_encoder('fine_tuned_encoder')"
   ]
  },
  {
   "cell_type": "markdown",
   "metadata": {
    "colab_type": "text",
    "id": "WF00465cuiy1"
   },
   "source": [
    "*  Find the learning rate"
   ]
  },
  {
   "cell_type": "code",
   "execution_count": 101,
   "metadata": {
    "colab": {
     "base_uri": "https://localhost:8080/",
     "height": 112
    },
    "colab_type": "code",
    "id": "k1YUYkPLtNTV",
    "outputId": "37048e4e-9f72-4442-9b46-de8a0c2ac5a6"
   },
   "outputs": [
    {
     "data": {
      "text/html": [
       "\n",
       "    <div>\n",
       "        <style>\n",
       "            /* Turns off some styling */\n",
       "            progress {\n",
       "                /* gets rid of default border in Firefox and Opera. */\n",
       "                border: none;\n",
       "                /* Needs to be in here for Safari polyfill so background images work as expected. */\n",
       "                background-size: auto;\n",
       "            }\n",
       "            .progress-bar-interrupted, .progress-bar-interrupted::-webkit-progress-bar {\n",
       "                background: #F44336;\n",
       "            }\n",
       "        </style>\n",
       "      <progress value='0' class='' max='1' style='width:300px; height:20px; vertical-align: middle;'></progress>\n",
       "      0.00% [0/1 00:00<00:00]\n",
       "    </div>\n",
       "    \n",
       "<table border=\"1\" class=\"dataframe\">\n",
       "  <thead>\n",
       "    <tr style=\"text-align: left;\">\n",
       "      <th>epoch</th>\n",
       "      <th>train_loss</th>\n",
       "      <th>valid_loss</th>\n",
       "      <th>accuracy</th>\n",
       "      <th>time</th>\n",
       "    </tr>\n",
       "  </thead>\n",
       "  <tbody>\n",
       "  </tbody>\n",
       "</table><p>\n",
       "\n",
       "    <div>\n",
       "        <style>\n",
       "            /* Turns off some styling */\n",
       "            progress {\n",
       "                /* gets rid of default border in Firefox and Opera. */\n",
       "                border: none;\n",
       "                /* Needs to be in here for Safari polyfill so background images work as expected. */\n",
       "                background-size: auto;\n",
       "            }\n",
       "            .progress-bar-interrupted, .progress-bar-interrupted::-webkit-progress-bar {\n",
       "                background: #F44336;\n",
       "            }\n",
       "        </style>\n",
       "      <progress value='94' class='' max='156' style='width:300px; height:20px; vertical-align: middle;'></progress>\n",
       "      60.26% [94/156 00:58<00:38 1.5315]\n",
       "    </div>\n",
       "    "
      ],
      "text/plain": [
       "<IPython.core.display.HTML object>"
      ]
     },
     "metadata": {
      "tags": []
     },
     "output_type": "display_data"
    },
    {
     "name": "stdout",
     "output_type": "stream",
     "text": [
      "LR Finder is complete, type {learner_name}.recorder.plot() to see the graph.\n"
     ]
    }
   ],
   "source": [
    "classifier.lr_find()"
   ]
  },
  {
   "cell_type": "code",
   "execution_count": 108,
   "metadata": {
    "colab": {
     "base_uri": "https://localhost:8080/",
     "height": 281
    },
    "colab_type": "code",
    "id": "JtoghZbDsQNk",
    "outputId": "4d523fe6-3031-4bb4-aa65-f40c729405ee"
   },
   "outputs": [
    {
     "data": {
      "image/png": "[encoded data removed]",
      "text/plain": [
       "<Figure size 432x288 with 1 Axes>"
      ]
     },
     "metadata": {
      "needs_background": "light",
      "tags": []
     },
     "output_type": "display_data"
    }
   ],
   "source": [
    "classifier.recorder.plot(skip_end=2)"
   ]
  },
  {
   "cell_type": "code",
   "execution_count": 109,
   "metadata": {
    "colab": {
     "base_uri": "https://localhost:8080/",
     "height": 79
    },
    "colab_type": "code",
    "id": "uRyQmY4fsQGz",
    "outputId": "c9460b19-2527-46a9-d5ce-d5d4b9634b5f"
   },
   "outputs": [
    {
     "data": {
      "text/html": [
       "<table border=\"1\" class=\"dataframe\">\n",
       "  <thead>\n",
       "    <tr style=\"text-align: left;\">\n",
       "      <th>epoch</th>\n",
       "      <th>train_loss</th>\n",
       "      <th>valid_loss</th>\n",
       "      <th>accuracy</th>\n",
       "      <th>time</th>\n",
       "    </tr>\n",
       "  </thead>\n",
       "  <tbody>\n",
       "    <tr>\n",
       "      <td>0</td>\n",
       "      <td>0.367220</td>\n",
       "      <td>0.328281</td>\n",
       "      <td>0.856000</td>\n",
       "      <td>02:18</td>\n",
       "    </tr>\n",
       "  </tbody>\n",
       "</table>"
      ],
      "text/plain": [
       "<IPython.core.display.HTML object>"
      ]
     },
     "metadata": {
      "tags": []
     },
     "output_type": "display_data"
    }
   ],
   "source": [
    "classifier.fit_one_cycle(1, 2e-2, moms=(0.8,0.7)) "
   ]
  },
  {
   "cell_type": "markdown",
   "metadata": {
    "colab_type": "text",
    "id": "2MfkLWhLvmjc"
   },
   "source": [
    "From above, using Transfer Learning, we got 85% accuracy using only 5000 training and 3000 validation samples "
   ]
  },
  {
   "cell_type": "markdown",
   "metadata": {
    "colab_type": "text",
    "id": "qYOIiNGJw6Q-"
   },
   "source": [
    "* Calculate Loss Plot while training the model:"
   ]
  },
  {
   "cell_type": "code",
   "execution_count": 110,
   "metadata": {
    "colab": {
     "base_uri": "https://localhost:8080/",
     "height": 279
    },
    "colab_type": "code",
    "id": "OFmVu3FHsQEK",
    "outputId": "928ef161-dea1-43cd-d159-acaf90142c1d"
   },
   "outputs": [
    {
     "data": {
      "image/png": "[encoded data removed]",
      "text/plain": [
       "<Figure size 432x288 with 1 Axes>"
      ]
     },
     "metadata": {
      "needs_background": "light",
      "tags": []
     },
     "output_type": "display_data"
    }
   ],
   "source": [
    "classifier.recorder.plot_losses()"
   ]
  },
  {
   "cell_type": "code",
   "execution_count": 0,
   "metadata": {
    "colab": {},
    "colab_type": "code",
    "id": "wjuFwkdGvmC2"
   },
   "outputs": [],
   "source": [
    "classifier.save('first')"
   ]
  },
  {
   "cell_type": "markdown",
   "metadata": {
    "colab_type": "text",
    "id": "b8qQYub9xthc"
   },
   "source": [
    "#### Further fine tuning"
   ]
  },
  {
   "cell_type": "markdown",
   "metadata": {
    "colab_type": "text",
    "id": "YghtDQPRyx64"
   },
   "source": [
    "* To improve the accuracy further, fast.ai provides 'freeze_to' function \n",
    "* Let's unfreeze one layer at a time and check accuracy"
   ]
  },
  {
   "cell_type": "markdown",
   "metadata": {
    "colab_type": "text",
    "id": "r68zpPvqzXIS"
   },
   "source": [
    "* Unfreeze the last two layers freeze_to(-2), train it a little bit more"
   ]
  },
  {
   "cell_type": "code",
   "execution_count": 112,
   "metadata": {
    "colab": {
     "base_uri": "https://localhost:8080/",
     "height": 79
    },
    "colab_type": "code",
    "id": "OYz6bwAmvdzb",
    "outputId": "6be5ee57-3d21-443c-9891-e9104b48c68d"
   },
   "outputs": [
    {
     "data": {
      "text/html": [
       "<table border=\"1\" class=\"dataframe\">\n",
       "  <thead>\n",
       "    <tr style=\"text-align: left;\">\n",
       "      <th>epoch</th>\n",
       "      <th>train_loss</th>\n",
       "      <th>valid_loss</th>\n",
       "      <th>accuracy</th>\n",
       "      <th>time</th>\n",
       "    </tr>\n",
       "  </thead>\n",
       "  <tbody>\n",
       "    <tr>\n",
       "      <td>0</td>\n",
       "      <td>0.304642</td>\n",
       "      <td>0.277149</td>\n",
       "      <td>0.882333</td>\n",
       "      <td>02:31</td>\n",
       "    </tr>\n",
       "  </tbody>\n",
       "</table>"
      ],
      "text/plain": [
       "<IPython.core.display.HTML object>"
      ]
     },
     "metadata": {
      "tags": []
     },
     "output_type": "display_data"
    }
   ],
   "source": [
    "classifier.freeze_to(-2)\n",
    "classifier.fit_one_cycle(1, slice(1e-2/(2.6**4),1e-2), moms=(0.8,0.7))  "
   ]
  },
  {
   "cell_type": "code",
   "execution_count": 0,
   "metadata": {
    "colab": {},
    "colab_type": "code",
    "id": "JiBbdDuIvd3b"
   },
   "outputs": [],
   "source": [
    "classifier.save('second')"
   ]
  },
  {
   "cell_type": "markdown",
   "metadata": {
    "colab_type": "text",
    "id": "qBq_9Y720VY5"
   },
   "source": [
    "* Unfreeze the next layers freeze_to(-3), train it a little bit more"
   ]
  },
  {
   "cell_type": "code",
   "execution_count": 115,
   "metadata": {
    "colab": {
     "base_uri": "https://localhost:8080/",
     "height": 79
    },
    "colab_type": "code",
    "id": "tctdHSyCvdxV",
    "outputId": "f78c7ff8-6d2e-433b-9a04-aacf0fe2c72b"
   },
   "outputs": [
    {
     "data": {
      "text/html": [
       "<table border=\"1\" class=\"dataframe\">\n",
       "  <thead>\n",
       "    <tr style=\"text-align: left;\">\n",
       "      <th>epoch</th>\n",
       "      <th>train_loss</th>\n",
       "      <th>valid_loss</th>\n",
       "      <th>accuracy</th>\n",
       "      <th>time</th>\n",
       "    </tr>\n",
       "  </thead>\n",
       "  <tbody>\n",
       "    <tr>\n",
       "      <td>0</td>\n",
       "      <td>0.248328</td>\n",
       "      <td>0.245691</td>\n",
       "      <td>0.896333</td>\n",
       "      <td>03:19</td>\n",
       "    </tr>\n",
       "  </tbody>\n",
       "</table>"
      ],
      "text/plain": [
       "<IPython.core.display.HTML object>"
      ]
     },
     "metadata": {
      "tags": []
     },
     "output_type": "display_data"
    }
   ],
   "source": [
    "classifier.freeze_to(-3)\n",
    "classifier.fit_one_cycle(1, slice(5e-3/(2.6**4),5e-3), moms=(0.8,0.7)) "
   ]
  },
  {
   "cell_type": "code",
   "execution_count": 0,
   "metadata": {
    "colab": {},
    "colab_type": "code",
    "id": "kqoTc_2I1ZbL"
   },
   "outputs": [],
   "source": [
    "classifier.save('third')"
   ]
  },
  {
   "cell_type": "markdown",
   "metadata": {
    "colab_type": "text",
    "id": "8xyaKUyz1m1u"
   },
   "source": [
    "* Unfreeze the whole thing unfreeze(), train it a little bit more"
   ]
  },
  {
   "cell_type": "code",
   "execution_count": 117,
   "metadata": {
    "colab": {
     "base_uri": "https://localhost:8080/",
     "height": 79
    },
    "colab_type": "code",
    "id": "YdQCzjEl1eIZ",
    "outputId": "001e9ace-b14c-4010-be3a-eff4422eb464"
   },
   "outputs": [
    {
     "data": {
      "text/html": [
       "<table border=\"1\" class=\"dataframe\">\n",
       "  <thead>\n",
       "    <tr style=\"text-align: left;\">\n",
       "      <th>epoch</th>\n",
       "      <th>train_loss</th>\n",
       "      <th>valid_loss</th>\n",
       "      <th>accuracy</th>\n",
       "      <th>time</th>\n",
       "    </tr>\n",
       "  </thead>\n",
       "  <tbody>\n",
       "    <tr>\n",
       "      <td>0</td>\n",
       "      <td>0.181109</td>\n",
       "      <td>0.261311</td>\n",
       "      <td>0.885667</td>\n",
       "      <td>03:47</td>\n",
       "    </tr>\n",
       "  </tbody>\n",
       "</table>"
      ],
      "text/plain": [
       "<IPython.core.display.HTML object>"
      ]
     },
     "metadata": {
      "tags": []
     },
     "output_type": "display_data"
    }
   ],
   "source": [
    "classifier.unfreeze()\n",
    "classifier.fit_one_cycle(1, slice(1e-3/(2.6**4),1e-3), moms=(0.8,0.7))"
   ]
  },
  {
   "cell_type": "markdown",
   "metadata": {
    "colab_type": "text",
    "id": "bmp6X6tI5TU2"
   },
   "source": [
    "* Let us use our classifier and predict some movie review:"
   ]
  },
  {
   "cell_type": "code",
   "execution_count": 123,
   "metadata": {
    "colab": {
     "base_uri": "https://localhost:8080/",
     "height": 35
    },
    "colab_type": "code",
    "id": "sYpAr34y3tp7",
    "outputId": "8cc8c00e-e69e-427c-d5fa-db6c739e62e3"
   },
   "outputs": [
    {
     "data": {
      "text/plain": [
       "(Category tensor(1), tensor(1), tensor([0.0120, 0.9880]))"
      ]
     },
     "execution_count": 123,
     "metadata": {
      "tags": []
     },
     "output_type": "execute_result"
    }
   ],
   "source": [
    "classifier.predict('The movie was awesome')"
   ]
  },
  {
   "cell_type": "code",
   "execution_count": 125,
   "metadata": {
    "colab": {
     "base_uri": "https://localhost:8080/",
     "height": 35
    },
    "colab_type": "code",
    "id": "8fgbFCEj6tWq",
    "outputId": "a4b1a208-e9b7-4b46-ad98-19905d2ac9e2"
   },
   "outputs": [
    {
     "data": {
      "text/plain": [
       "(Category tensor(1), tensor(1), tensor([0.3041, 0.6959]))"
      ]
     },
     "execution_count": 125,
     "metadata": {
      "tags": []
     },
     "output_type": "execute_result"
    }
   ],
   "source": [
    "classifier.predict('The movie was not good')"
   ]
  },
  {
   "cell_type": "code",
   "execution_count": 0,
   "metadata": {
    "colab": {},
    "colab_type": "code",
    "id": "EPJTUNkm6y6g"
   },
   "outputs": [],
   "source": []
  }
 ],
 "metadata": {
  "accelerator": "GPU",
  "colab": {
   "collapsed_sections": [],
   "name": "FastAI.ipynb",
   "provenance": []
  },
  "kernelspec": {
   "display_name": "Python 3",
   "language": "python",
   "name": "python3"
  },
  "language_info": {
   "codemirror_mode": {
    "name": "ipython",
    "version": 3
   },
   "file_extension": ".py",
   "mimetype": "text/x-python",
   "name": "python",
   "nbconvert_exporter": "python",
   "pygments_lexer": "ipython3",
   "version": "3.7.7"
  }
 },
 "nbformat": 4,
 "nbformat_minor": 1
}
